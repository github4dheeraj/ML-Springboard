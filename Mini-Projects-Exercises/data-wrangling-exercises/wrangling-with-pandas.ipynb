{
 "cells": [
  {
   "cell_type": "code",
   "execution_count": 5,
   "id": "acting-dayton",
   "metadata": {},
   "outputs": [
    {
     "name": "stdout",
     "output_type": "stream",
     "text": [
      "<class 'pandas.core.frame.DataFrame'>\n",
      "RangeIndex: 244914 entries, 0 to 244913\n",
      "Data columns (total 2 columns):\n",
      " #   Column  Non-Null Count   Dtype \n",
      "---  ------  --------------   ----- \n",
      " 0   title   244914 non-null  object\n",
      " 1   year    244914 non-null  int64 \n",
      "dtypes: int64(1), object(1)\n",
      "memory usage: 3.7+ MB\n"
     ]
    },
    {
     "data": {
      "text/html": [
       "<div>\n",
       "<style scoped>\n",
       "    .dataframe tbody tr th:only-of-type {\n",
       "        vertical-align: middle;\n",
       "    }\n",
       "\n",
       "    .dataframe tbody tr th {\n",
       "        vertical-align: top;\n",
       "    }\n",
       "\n",
       "    .dataframe thead th {\n",
       "        text-align: right;\n",
       "    }\n",
       "</style>\n",
       "<table border=\"1\" class=\"dataframe\">\n",
       "  <thead>\n",
       "    <tr style=\"text-align: right;\">\n",
       "      <th></th>\n",
       "      <th>title</th>\n",
       "      <th>year</th>\n",
       "    </tr>\n",
       "  </thead>\n",
       "  <tbody>\n",
       "    <tr>\n",
       "      <th>0</th>\n",
       "      <td>The Ticket to the Life</td>\n",
       "      <td>2009</td>\n",
       "    </tr>\n",
       "    <tr>\n",
       "      <th>1</th>\n",
       "      <td>Parallel Worlds: A New Rock Music Experience</td>\n",
       "      <td>2016</td>\n",
       "    </tr>\n",
       "    <tr>\n",
       "      <th>2</th>\n",
       "      <td>Morita - La hija de Jesus</td>\n",
       "      <td>2008</td>\n",
       "    </tr>\n",
       "    <tr>\n",
       "      <th>3</th>\n",
       "      <td>Gun</td>\n",
       "      <td>2017</td>\n",
       "    </tr>\n",
       "    <tr>\n",
       "      <th>4</th>\n",
       "      <td>Love or Nothing at All</td>\n",
       "      <td>2014</td>\n",
       "    </tr>\n",
       "  </tbody>\n",
       "</table>\n",
       "</div>"
      ],
      "text/plain": [
       "                                          title  year\n",
       "0                        The Ticket to the Life  2009\n",
       "1  Parallel Worlds: A New Rock Music Experience  2016\n",
       "2                     Morita - La hija de Jesus  2008\n",
       "3                                           Gun  2017\n",
       "4                        Love or Nothing at All  2014"
      ]
     },
     "execution_count": 5,
     "metadata": {},
     "output_type": "execute_result"
    }
   ],
   "source": [
    "# %load wrangling-with-pandas.py\n",
    "import pandas as pd\n",
    "import matplotlib.pyplot as plt\n",
    "\n",
    "# %matplotlib inline\n",
    "\n",
    "pd.__version__\n",
    "\n",
    "# Taking a look at the Movies dataset\n",
    "# This data shows the movies based on their title and the year of release\n",
    "\n",
    "movies = pd.read_csv('data/titles.csv')\n",
    "movies.info()\n",
    "\n",
    "movies.head()"
   ]
  },
  {
   "cell_type": "code",
   "execution_count": 6,
   "id": "developmental-findings",
   "metadata": {},
   "outputs": [
    {
     "name": "stdout",
     "output_type": "stream",
     "text": [
      "<class 'pandas.core.frame.DataFrame'>\n",
      "RangeIndex: 3786176 entries, 0 to 3786175\n",
      "Data columns (total 6 columns):\n",
      " #   Column     Dtype  \n",
      "---  ------     -----  \n",
      " 0   title      object \n",
      " 1   year       int64  \n",
      " 2   name       object \n",
      " 3   type       object \n",
      " 4   character  object \n",
      " 5   n          float64\n",
      "dtypes: float64(1), int64(1), object(4)\n",
      "memory usage: 173.3+ MB\n"
     ]
    },
    {
     "data": {
      "text/html": [
       "<div>\n",
       "<style scoped>\n",
       "    .dataframe tbody tr th:only-of-type {\n",
       "        vertical-align: middle;\n",
       "    }\n",
       "\n",
       "    .dataframe tbody tr th {\n",
       "        vertical-align: top;\n",
       "    }\n",
       "\n",
       "    .dataframe thead th {\n",
       "        text-align: right;\n",
       "    }\n",
       "</style>\n",
       "<table border=\"1\" class=\"dataframe\">\n",
       "  <thead>\n",
       "    <tr style=\"text-align: right;\">\n",
       "      <th></th>\n",
       "      <th>title</th>\n",
       "      <th>year</th>\n",
       "      <th>name</th>\n",
       "      <th>type</th>\n",
       "      <th>character</th>\n",
       "      <th>n</th>\n",
       "    </tr>\n",
       "  </thead>\n",
       "  <tbody>\n",
       "    <tr>\n",
       "      <th>0</th>\n",
       "      <td>Closet Monster</td>\n",
       "      <td>2015</td>\n",
       "      <td>Buffy #1</td>\n",
       "      <td>actor</td>\n",
       "      <td>Buffy 4</td>\n",
       "      <td>31.0</td>\n",
       "    </tr>\n",
       "    <tr>\n",
       "      <th>1</th>\n",
       "      <td>Suuri illusioni</td>\n",
       "      <td>1985</td>\n",
       "      <td>Homo $</td>\n",
       "      <td>actor</td>\n",
       "      <td>Guests</td>\n",
       "      <td>22.0</td>\n",
       "    </tr>\n",
       "    <tr>\n",
       "      <th>2</th>\n",
       "      <td>Battle of the Sexes</td>\n",
       "      <td>2017</td>\n",
       "      <td>$hutter</td>\n",
       "      <td>actor</td>\n",
       "      <td>Bobby Riggs Fan</td>\n",
       "      <td>10.0</td>\n",
       "    </tr>\n",
       "    <tr>\n",
       "      <th>3</th>\n",
       "      <td>Secret in Their Eyes</td>\n",
       "      <td>2015</td>\n",
       "      <td>$hutter</td>\n",
       "      <td>actor</td>\n",
       "      <td>2002 Dodger Fan</td>\n",
       "      <td>NaN</td>\n",
       "    </tr>\n",
       "    <tr>\n",
       "      <th>4</th>\n",
       "      <td>Steve Jobs</td>\n",
       "      <td>2015</td>\n",
       "      <td>$hutter</td>\n",
       "      <td>actor</td>\n",
       "      <td>1988 Opera House Patron</td>\n",
       "      <td>NaN</td>\n",
       "    </tr>\n",
       "    <tr>\n",
       "      <th>5</th>\n",
       "      <td>Straight Outta Compton</td>\n",
       "      <td>2015</td>\n",
       "      <td>$hutter</td>\n",
       "      <td>actor</td>\n",
       "      <td>Club Patron</td>\n",
       "      <td>NaN</td>\n",
       "    </tr>\n",
       "    <tr>\n",
       "      <th>6</th>\n",
       "      <td>Straight Outta Compton</td>\n",
       "      <td>2015</td>\n",
       "      <td>$hutter</td>\n",
       "      <td>actor</td>\n",
       "      <td>Dopeman</td>\n",
       "      <td>NaN</td>\n",
       "    </tr>\n",
       "    <tr>\n",
       "      <th>7</th>\n",
       "      <td>For Thy Love 2</td>\n",
       "      <td>2009</td>\n",
       "      <td>Bee Moe $lim</td>\n",
       "      <td>actor</td>\n",
       "      <td>Thug 1</td>\n",
       "      <td>NaN</td>\n",
       "    </tr>\n",
       "    <tr>\n",
       "      <th>8</th>\n",
       "      <td>Lapis, Ballpen at Diploma, a True to Life Journey</td>\n",
       "      <td>2014</td>\n",
       "      <td>Jori ' Danilo' Jurado Jr.</td>\n",
       "      <td>actor</td>\n",
       "      <td>Jaime (young)</td>\n",
       "      <td>9.0</td>\n",
       "    </tr>\n",
       "    <tr>\n",
       "      <th>9</th>\n",
       "      <td>Desire (III)</td>\n",
       "      <td>2014</td>\n",
       "      <td>Syaiful 'Ariffin</td>\n",
       "      <td>actor</td>\n",
       "      <td>Actor Playing Eteocles from 'Antigone'</td>\n",
       "      <td>NaN</td>\n",
       "    </tr>\n",
       "  </tbody>\n",
       "</table>\n",
       "</div>"
      ],
      "text/plain": [
       "                                               title  year  \\\n",
       "0                                     Closet Monster  2015   \n",
       "1                                    Suuri illusioni  1985   \n",
       "2                                Battle of the Sexes  2017   \n",
       "3                               Secret in Their Eyes  2015   \n",
       "4                                         Steve Jobs  2015   \n",
       "5                             Straight Outta Compton  2015   \n",
       "6                             Straight Outta Compton  2015   \n",
       "7                                     For Thy Love 2  2009   \n",
       "8  Lapis, Ballpen at Diploma, a True to Life Journey  2014   \n",
       "9                                       Desire (III)  2014   \n",
       "\n",
       "                        name   type                               character  \\\n",
       "0                   Buffy #1  actor                                 Buffy 4   \n",
       "1                     Homo $  actor                                  Guests   \n",
       "2                    $hutter  actor                         Bobby Riggs Fan   \n",
       "3                    $hutter  actor                         2002 Dodger Fan   \n",
       "4                    $hutter  actor                 1988 Opera House Patron   \n",
       "5                    $hutter  actor                             Club Patron   \n",
       "6                    $hutter  actor                                 Dopeman   \n",
       "7               Bee Moe $lim  actor                                  Thug 1   \n",
       "8  Jori ' Danilo' Jurado Jr.  actor                           Jaime (young)   \n",
       "9           Syaiful 'Ariffin  actor  Actor Playing Eteocles from 'Antigone'   \n",
       "\n",
       "      n  \n",
       "0  31.0  \n",
       "1  22.0  \n",
       "2  10.0  \n",
       "3   NaN  \n",
       "4   NaN  \n",
       "5   NaN  \n",
       "6   NaN  \n",
       "7   NaN  \n",
       "8   9.0  \n",
       "9   NaN  "
      ]
     },
     "execution_count": 6,
     "metadata": {},
     "output_type": "execute_result"
    }
   ],
   "source": [
    "\n",
    "# Taking a look at the Cast dataset\n",
    "# This data shows the cast (actors, actresses, supporting roles) for each movie\n",
    "#\n",
    "# The attribute n basically tells the importance of the cast role, lower the number, more important the role.\n",
    "# Supporting cast usually don't have any value for n\n",
    "cast = pd.read_csv('data/cast.csv')\n",
    "cast.info()\n",
    "cast.head(10)\n"
   ]
  },
  {
   "cell_type": "code",
   "execution_count": 11,
   "id": "bronze-jonathan",
   "metadata": {},
   "outputs": [
    {
     "name": "stdout",
     "output_type": "stream",
     "text": [
      "<class 'pandas.core.frame.DataFrame'>\n",
      "RangeIndex: 479488 entries, 0 to 479487\n",
      "Data columns (total 4 columns):\n",
      " #   Column   Non-Null Count   Dtype         \n",
      "---  ------   --------------   -----         \n",
      " 0   title    479488 non-null  object        \n",
      " 1   year     479488 non-null  int64         \n",
      " 2   country  479488 non-null  object        \n",
      " 3   date     479488 non-null  datetime64[ns]\n",
      "dtypes: datetime64[ns](1), int64(1), object(2)\n",
      "memory usage: 14.6+ MB\n"
     ]
    },
    {
     "data": {
      "text/html": [
       "<div>\n",
       "<style scoped>\n",
       "    .dataframe tbody tr th:only-of-type {\n",
       "        vertical-align: middle;\n",
       "    }\n",
       "\n",
       "    .dataframe tbody tr th {\n",
       "        vertical-align: top;\n",
       "    }\n",
       "\n",
       "    .dataframe thead th {\n",
       "        text-align: right;\n",
       "    }\n",
       "</style>\n",
       "<table border=\"1\" class=\"dataframe\">\n",
       "  <thead>\n",
       "    <tr style=\"text-align: right;\">\n",
       "      <th></th>\n",
       "      <th>title</th>\n",
       "      <th>year</th>\n",
       "      <th>country</th>\n",
       "      <th>date</th>\n",
       "    </tr>\n",
       "  </thead>\n",
       "  <tbody>\n",
       "    <tr>\n",
       "      <th>0</th>\n",
       "      <td>#73, Shaanthi Nivaasa</td>\n",
       "      <td>2007</td>\n",
       "      <td>India</td>\n",
       "      <td>2007-06-15</td>\n",
       "    </tr>\n",
       "    <tr>\n",
       "      <th>1</th>\n",
       "      <td>#BKKY</td>\n",
       "      <td>2016</td>\n",
       "      <td>Cambodia</td>\n",
       "      <td>2017-10-12</td>\n",
       "    </tr>\n",
       "    <tr>\n",
       "      <th>2</th>\n",
       "      <td>#Beings</td>\n",
       "      <td>2015</td>\n",
       "      <td>Romania</td>\n",
       "      <td>2015-01-29</td>\n",
       "    </tr>\n",
       "    <tr>\n",
       "      <th>3</th>\n",
       "      <td>#Captured</td>\n",
       "      <td>2017</td>\n",
       "      <td>USA</td>\n",
       "      <td>2017-09-05</td>\n",
       "    </tr>\n",
       "    <tr>\n",
       "      <th>4</th>\n",
       "      <td>#Ewankosau saranghaeyo</td>\n",
       "      <td>2015</td>\n",
       "      <td>Philippines</td>\n",
       "      <td>2015-01-21</td>\n",
       "    </tr>\n",
       "  </tbody>\n",
       "</table>\n",
       "</div>"
      ],
      "text/plain": [
       "                    title  year      country       date\n",
       "0   #73, Shaanthi Nivaasa  2007        India 2007-06-15\n",
       "1                   #BKKY  2016     Cambodia 2017-10-12\n",
       "2                 #Beings  2015      Romania 2015-01-29\n",
       "3               #Captured  2017          USA 2017-09-05\n",
       "4  #Ewankosau saranghaeyo  2015  Philippines 2015-01-21"
      ]
     },
     "execution_count": 11,
     "metadata": {},
     "output_type": "execute_result"
    }
   ],
   "source": [
    "# Taking a look at the Release dataset\n",
    "# This data shows details of when each movie was release in each country with the release date\n",
    "release_dates = pd.read_csv('data/release_dates.csv', parse_dates=['date'], infer_datetime_format=True)\n",
    "release_dates.info()\n",
    "release_dates.head()"
   ]
  },
  {
   "cell_type": "code",
   "execution_count": 8,
   "id": "decent-oxygen",
   "metadata": {},
   "outputs": [
    {
     "data": {
      "text/plain": [
       "244914"
      ]
     },
     "execution_count": 8,
     "metadata": {},
     "output_type": "execute_result"
    }
   ],
   "source": [
    "# Section I - Basic Querying, Filtering and Transformations\n",
    "# What is the total number of movies?\n",
    "len(movies)"
   ]
  },
  {
   "cell_type": "code",
   "execution_count": 9,
   "id": "aggressive-spouse",
   "metadata": {},
   "outputs": [
    {
     "name": "stdout",
     "output_type": "stream",
     "text": [
      "Total Batman Movies: 2\n"
     ]
    },
    {
     "data": {
      "text/html": [
       "<div>\n",
       "<style scoped>\n",
       "    .dataframe tbody tr th:only-of-type {\n",
       "        vertical-align: middle;\n",
       "    }\n",
       "\n",
       "    .dataframe tbody tr th {\n",
       "        vertical-align: top;\n",
       "    }\n",
       "\n",
       "    .dataframe thead th {\n",
       "        text-align: right;\n",
       "    }\n",
       "</style>\n",
       "<table border=\"1\" class=\"dataframe\">\n",
       "  <thead>\n",
       "    <tr style=\"text-align: right;\">\n",
       "      <th></th>\n",
       "      <th>title</th>\n",
       "      <th>year</th>\n",
       "    </tr>\n",
       "  </thead>\n",
       "  <tbody>\n",
       "    <tr>\n",
       "      <th>52734</th>\n",
       "      <td>Batman</td>\n",
       "      <td>1943</td>\n",
       "    </tr>\n",
       "    <tr>\n",
       "      <th>150621</th>\n",
       "      <td>Batman</td>\n",
       "      <td>1989</td>\n",
       "    </tr>\n",
       "  </tbody>\n",
       "</table>\n",
       "</div>"
      ],
      "text/plain": [
       "         title  year\n",
       "52734   Batman  1943\n",
       "150621  Batman  1989"
      ]
     },
     "execution_count": 9,
     "metadata": {},
     "output_type": "execute_result"
    }
   ],
   "source": [
    "# List all Batman movies ever made\n",
    "batman_df = movies[movies.title == 'Batman']\n",
    "print('Total Batman Movies:', len(batman_df))\n",
    "batman_df"
   ]
  },
  {
   "cell_type": "code",
   "execution_count": 10,
   "id": "informed-vulnerability",
   "metadata": {},
   "outputs": [
    {
     "name": "stdout",
     "output_type": "stream",
     "text": [
      "Total Batman Movies: 35\n"
     ]
    },
    {
     "data": {
      "text/html": [
       "<div>\n",
       "<style scoped>\n",
       "    .dataframe tbody tr th:only-of-type {\n",
       "        vertical-align: middle;\n",
       "    }\n",
       "\n",
       "    .dataframe tbody tr th {\n",
       "        vertical-align: top;\n",
       "    }\n",
       "\n",
       "    .dataframe thead th {\n",
       "        text-align: right;\n",
       "    }\n",
       "</style>\n",
       "<table border=\"1\" class=\"dataframe\">\n",
       "  <thead>\n",
       "    <tr style=\"text-align: right;\">\n",
       "      <th></th>\n",
       "      <th>title</th>\n",
       "      <th>year</th>\n",
       "    </tr>\n",
       "  </thead>\n",
       "  <tbody>\n",
       "    <tr>\n",
       "      <th>16813</th>\n",
       "      <td>Batman: Anarchy</td>\n",
       "      <td>2016</td>\n",
       "    </tr>\n",
       "    <tr>\n",
       "      <th>30236</th>\n",
       "      <td>Batman Forever</td>\n",
       "      <td>1995</td>\n",
       "    </tr>\n",
       "    <tr>\n",
       "      <th>31674</th>\n",
       "      <td>Batman Untold</td>\n",
       "      <td>2010</td>\n",
       "    </tr>\n",
       "    <tr>\n",
       "      <th>31711</th>\n",
       "      <td>Scooby-Doo &amp; Batman: the Brave and the Bold</td>\n",
       "      <td>2018</td>\n",
       "    </tr>\n",
       "    <tr>\n",
       "      <th>41881</th>\n",
       "      <td>Batman the Rise of Red Hood</td>\n",
       "      <td>2018</td>\n",
       "    </tr>\n",
       "    <tr>\n",
       "      <th>43484</th>\n",
       "      <td>Batman: Return of the Caped Crusaders</td>\n",
       "      <td>2016</td>\n",
       "    </tr>\n",
       "    <tr>\n",
       "      <th>46333</th>\n",
       "      <td>Batman &amp; Robin</td>\n",
       "      <td>1997</td>\n",
       "    </tr>\n",
       "    <tr>\n",
       "      <th>51811</th>\n",
       "      <td>Batman Revealed</td>\n",
       "      <td>2012</td>\n",
       "    </tr>\n",
       "    <tr>\n",
       "      <th>52734</th>\n",
       "      <td>Batman</td>\n",
       "      <td>1943</td>\n",
       "    </tr>\n",
       "    <tr>\n",
       "      <th>56029</th>\n",
       "      <td>Batman Beyond: Rising Knight</td>\n",
       "      <td>2014</td>\n",
       "    </tr>\n",
       "  </tbody>\n",
       "</table>\n",
       "</div>"
      ],
      "text/plain": [
       "                                             title  year\n",
       "16813                              Batman: Anarchy  2016\n",
       "30236                               Batman Forever  1995\n",
       "31674                                Batman Untold  2010\n",
       "31711  Scooby-Doo & Batman: the Brave and the Bold  2018\n",
       "41881                  Batman the Rise of Red Hood  2018\n",
       "43484        Batman: Return of the Caped Crusaders  2016\n",
       "46333                               Batman & Robin  1997\n",
       "51811                              Batman Revealed  2012\n",
       "52734                                       Batman  1943\n",
       "56029                 Batman Beyond: Rising Knight  2014"
      ]
     },
     "execution_count": 10,
     "metadata": {},
     "output_type": "execute_result"
    }
   ],
   "source": [
    "# List all Batman movies ever made - the right approach\n",
    "batman_df = movies[movies.title.str.contains('Batman', case=False)]\n",
    "print('Total Batman Movies:', len(batman_df))\n",
    "batman_df.head(10)"
   ]
  },
  {
   "cell_type": "code",
   "execution_count": 12,
   "id": "emotional-creativity",
   "metadata": {},
   "outputs": [
    {
     "data": {
      "text/html": [
       "<div>\n",
       "<style scoped>\n",
       "    .dataframe tbody tr th:only-of-type {\n",
       "        vertical-align: middle;\n",
       "    }\n",
       "\n",
       "    .dataframe tbody tr th {\n",
       "        vertical-align: top;\n",
       "    }\n",
       "\n",
       "    .dataframe thead th {\n",
       "        text-align: right;\n",
       "    }\n",
       "</style>\n",
       "<table border=\"1\" class=\"dataframe\">\n",
       "  <thead>\n",
       "    <tr style=\"text-align: right;\">\n",
       "      <th></th>\n",
       "      <th>title</th>\n",
       "      <th>year</th>\n",
       "    </tr>\n",
       "  </thead>\n",
       "  <tbody>\n",
       "    <tr>\n",
       "      <th>52734</th>\n",
       "      <td>Batman</td>\n",
       "      <td>1943</td>\n",
       "    </tr>\n",
       "    <tr>\n",
       "      <th>100056</th>\n",
       "      <td>Batman and Robin</td>\n",
       "      <td>1949</td>\n",
       "    </tr>\n",
       "    <tr>\n",
       "      <th>161439</th>\n",
       "      <td>Batman Dracula</td>\n",
       "      <td>1964</td>\n",
       "    </tr>\n",
       "    <tr>\n",
       "      <th>84327</th>\n",
       "      <td>Alyas Batman at Robin</td>\n",
       "      <td>1965</td>\n",
       "    </tr>\n",
       "    <tr>\n",
       "      <th>68364</th>\n",
       "      <td>James Batman</td>\n",
       "      <td>1966</td>\n",
       "    </tr>\n",
       "    <tr>\n",
       "      <th>161527</th>\n",
       "      <td>Batman: The Movie</td>\n",
       "      <td>1966</td>\n",
       "    </tr>\n",
       "    <tr>\n",
       "      <th>56159</th>\n",
       "      <td>Batman Fights Dracula</td>\n",
       "      <td>1967</td>\n",
       "    </tr>\n",
       "    <tr>\n",
       "      <th>168504</th>\n",
       "      <td>Fight! Batman, Fight!</td>\n",
       "      <td>1973</td>\n",
       "    </tr>\n",
       "    <tr>\n",
       "      <th>150621</th>\n",
       "      <td>Batman</td>\n",
       "      <td>1989</td>\n",
       "    </tr>\n",
       "    <tr>\n",
       "      <th>156239</th>\n",
       "      <td>Alyas Batman en Robin</td>\n",
       "      <td>1991</td>\n",
       "    </tr>\n",
       "    <tr>\n",
       "      <th>156755</th>\n",
       "      <td>Batman Returns</td>\n",
       "      <td>1992</td>\n",
       "    </tr>\n",
       "    <tr>\n",
       "      <th>63366</th>\n",
       "      <td>Batman: Mask of the Phantasm</td>\n",
       "      <td>1993</td>\n",
       "    </tr>\n",
       "    <tr>\n",
       "      <th>30236</th>\n",
       "      <td>Batman Forever</td>\n",
       "      <td>1995</td>\n",
       "    </tr>\n",
       "    <tr>\n",
       "      <th>46333</th>\n",
       "      <td>Batman &amp; Robin</td>\n",
       "      <td>1997</td>\n",
       "    </tr>\n",
       "    <tr>\n",
       "      <th>208220</th>\n",
       "      <td>Batman Begins</td>\n",
       "      <td>2005</td>\n",
       "    </tr>\n",
       "  </tbody>\n",
       "</table>\n",
       "</div>"
      ],
      "text/plain": [
       "                               title  year\n",
       "52734                         Batman  1943\n",
       "100056              Batman and Robin  1949\n",
       "161439                Batman Dracula  1964\n",
       "84327          Alyas Batman at Robin  1965\n",
       "68364                   James Batman  1966\n",
       "161527             Batman: The Movie  1966\n",
       "56159          Batman Fights Dracula  1967\n",
       "168504         Fight! Batman, Fight!  1973\n",
       "150621                        Batman  1989\n",
       "156239         Alyas Batman en Robin  1991\n",
       "156755                Batman Returns  1992\n",
       "63366   Batman: Mask of the Phantasm  1993\n",
       "30236                 Batman Forever  1995\n",
       "46333                 Batman & Robin  1997\n",
       "208220                 Batman Begins  2005"
      ]
     },
     "execution_count": 12,
     "metadata": {},
     "output_type": "execute_result"
    }
   ],
   "source": [
    "# Display the top 15 Batman movies in the order they were released\n",
    "batman_df.sort_values(by=['year'], ascending=True).iloc[:15]"
   ]
  },
  {
   "cell_type": "code",
   "execution_count": 13,
   "id": "frequent-speech",
   "metadata": {},
   "outputs": [
    {
     "name": "stdout",
     "output_type": "stream",
     "text": [
      "All Harry Potter Movies: 8\n",
      "                                               title  year\n",
      "50581      Harry Potter and the Order of the Phoenix  2007\n",
      "61957       Harry Potter and the Prisoner of Azkaban  2004\n",
      "82791        Harry Potter and the Chamber of Secrets  2002\n",
      "109213        Harry Potter and the Half-Blood Prince  2009\n",
      "143147  Harry Potter and the Deathly Hallows: Part 2  2011\n"
     ]
    }
   ],
   "source": [
    "# Section I - Q1 : List all the 'Harry Potter' movies from the most recent to the earliest\n",
    "hpdf = movies[movies.title.str.contains('Harry Potter', case=False)]\n",
    "print('All Harry Potter Movies:', len(hpdf))\n",
    "print(hpdf.head())"
   ]
  },
  {
   "cell_type": "code",
   "execution_count": 14,
   "id": "previous-speed",
   "metadata": {},
   "outputs": [
    {
     "name": "stdout",
     "output_type": "stream",
     "text": [
      "11474\n"
     ]
    }
   ],
   "source": [
    "# How many movies were made in the year 2017?\n",
    "print(len(movies[movies.year == 2017]))"
   ]
  },
  {
   "cell_type": "code",
   "execution_count": 15,
   "id": "juvenile-check",
   "metadata": {},
   "outputs": [
    {
     "name": "stdout",
     "output_type": "stream",
     "text": [
      "8702\n"
     ]
    }
   ],
   "source": [
    "# Section I - Q2 : How many movies were made in the year 2015?\n",
    "print(len(movies[movies.year == 2015]))"
   ]
  },
  {
   "cell_type": "code",
   "execution_count": 16,
   "id": "still-conversation",
   "metadata": {},
   "outputs": [
    {
     "name": "stdout",
     "output_type": "stream",
     "text": [
      "114070\n"
     ]
    }
   ],
   "source": [
    "# Section I - Q3 : How many movies were made from 2000 till 2018?\n",
    "print(len(movies[(movies.year >= 2000) & (movies.year <= 2018)]))"
   ]
  },
  {
   "cell_type": "code",
   "execution_count": 17,
   "id": "occupational-paris",
   "metadata": {},
   "outputs": [
    {
     "name": "stdout",
     "output_type": "stream",
     "text": [
      "20\n"
     ]
    }
   ],
   "source": [
    "# Section I - Q4: How many movies are titled \"Hamlet\"?\n",
    "hamletMovies = movies[movies.title == 'Hamlet']\n",
    "print(len(hamletMovies))"
   ]
  },
  {
   "cell_type": "code",
   "execution_count": 18,
   "id": "nutritional-minneapolis",
   "metadata": {},
   "outputs": [
    {
     "name": "stdout",
     "output_type": "stream",
     "text": [
      "         title  year\n",
      "55639   Hamlet  2000\n",
      "1931    Hamlet  2009\n",
      "227953  Hamlet  2011\n",
      "178290  Hamlet  2014\n",
      "186137  Hamlet  2015\n",
      "191940  Hamlet  2016\n",
      "244747  Hamlet  2017\n"
     ]
    }
   ],
   "source": [
    "\n",
    "# Section I - Q5: List all movies titled \"Hamlet\"\n",
    "# The movies should only have been released on or after the year 2000\n",
    "# Display the movies based on the year they were released (earliest to most recent)\n",
    "print(hamletMovies[hamletMovies.year >= 2000].sort_values(by=['year'], ascending=True))"
   ]
  },
  {
   "cell_type": "code",
   "execution_count": 19,
   "id": "leading-float",
   "metadata": {},
   "outputs": [
    {
     "name": "stdout",
     "output_type": "stream",
     "text": [
      "27\n"
     ]
    }
   ],
   "source": [
    "# Section I - Q6: How many roles in the movie \"Inception\" are of the supporting cast (extra credits)\n",
    "# supporting cast are NOT ranked by an \"n\" value (NaN)\n",
    "# check for how to filter based on nulls\n",
    "# Option 1\n",
    "supportCast = cast[(cast.title == 'Inception') & (pd.isnull(cast.n))]\n",
    "print(len(supportCast))"
   ]
  },
  {
   "cell_type": "code",
   "execution_count": 20,
   "id": "dimensional-motel",
   "metadata": {},
   "outputs": [
    {
     "name": "stdout",
     "output_type": "stream",
     "text": [
      "27\n"
     ]
    }
   ],
   "source": [
    "\n",
    "# Option 2 - better\n",
    "inceptionDf = cast[cast.title == 'Inception']\n",
    "print(len(inceptionDf[inceptionDf.n.isnull()]))"
   ]
  },
  {
   "cell_type": "code",
   "execution_count": 21,
   "id": "everyday-platform",
   "metadata": {},
   "outputs": [
    {
     "name": "stdout",
     "output_type": "stream",
     "text": [
      "51\n"
     ]
    }
   ],
   "source": [
    "# Section I - Q7: How many roles in the movie \"Inception\" are of the main cast\n",
    "# main cast always have an 'n' value\n",
    "# Option\n",
    "#   mainCast = cast[(cast.title == 'Inception') & ~(pd.isnull(cast.n))]\n",
    "#   len(mainCast)\n",
    "\n",
    "print(len(inceptionDf[~inceptionDf.n.isnull()]))"
   ]
  },
  {
   "cell_type": "code",
   "execution_count": 22,
   "id": "nearby-madonna",
   "metadata": {},
   "outputs": [
    {
     "name": "stdout",
     "output_type": "stream",
     "text": [
      "             title  year                  name     type        character     n\n",
      "590576   Inception  2010     Leonardo DiCaprio    actor             Cobb   1.0\n",
      "859993   Inception  2010  Joseph Gordon-Levitt    actor           Arthur   2.0\n",
      "3387147  Inception  2010            Ellen Page  actress          Ariadne   3.0\n",
      "940923   Inception  2010             Tom Hardy    actor            Eames   4.0\n",
      "2406531  Inception  2010          Ken Watanabe    actor            Saito   5.0\n",
      "1876301  Inception  2010            Dileep Rao    actor            Yusuf   6.0\n",
      "1615709  Inception  2010        Cillian Murphy    actor   Robert Fischer   7.0\n",
      "183937   Inception  2010          Tom Berenger    actor         Browning   8.0\n",
      "2765969  Inception  2010      Marion Cotillard  actress              Mal   9.0\n",
      "1826027  Inception  2010    Pete Postlethwaite    actor  Maurice Fischer  10.0\n"
     ]
    }
   ],
   "source": [
    "# Section I - Q8: Show the top ten cast (actors\\actresses) in the movie \"Inception\"\n",
    "# support cast always have an 'n' value\n",
    "# remember to sort!\n",
    "print(inceptionDf[inceptionDf.n < 11].sort_values(by='n', ascending=True))\n",
    "# topCast = (cast[(cast.title == 'Inception') & ~(pd.isnull(cast.n))].sort_values(by='n', ascending=True)).iloc[:10]\n",
    "# print(topCast)"
   ]
  },
  {
   "cell_type": "code",
   "execution_count": 23,
   "id": "virgin-server",
   "metadata": {},
   "outputs": [
    {
     "name": "stdout",
     "output_type": "stream",
     "text": [
      "704984                                    Epic Movie\n",
      "792421           Harry Potter and the Goblet of Fire\n",
      "792423     Harry Potter and the Order of the Phoenix\n",
      "792424      Harry Potter and the Prisoner of Azkaban\n",
      "947789       Harry Potter and the Chamber of Secrets\n",
      "947790         Harry Potter and the Sorcerer's Stone\n",
      "1685537                        Ultimate Hero Project\n",
      "2248085                                       Potter\n",
      "Name: title, dtype: object\n",
      "<bound method Series.unique of 704984            Dane Farwell\n",
      "792421          Michael Gambon\n",
      "792423          Michael Gambon\n",
      "792424          Michael Gambon\n",
      "947789          Richard Harris\n",
      "947790          Richard Harris\n",
      "1685537    George (X) O'Connor\n",
      "2248085      Timothy Tedmanson\n",
      "Name: name, dtype: object>\n"
     ]
    }
   ],
   "source": [
    "# Section I - Q9:\n",
    "# (A) List all movies where there was a character 'Albus Dumbledore'\n",
    "dumbledoreDf = cast[cast.character.str.match('Albus Dumbledore')]\n",
    "print(dumbledoreDf.title)\n",
    "# (B) Now modify the above to show only the actors who played the character 'Albus Dumbledore'\n",
    "# For Part (B) remember the same actor might play the same role in multiple movies\n",
    "print(dumbledoreDf.name.unique)"
   ]
  },
  {
   "cell_type": "code",
   "execution_count": 24,
   "id": "illegal-gazette",
   "metadata": {},
   "outputs": [
    {
     "name": "stdout",
     "output_type": "stream",
     "text": [
      "62\n",
      "                                  title  year          name   type  \\\n",
      "1892370                     Me and Will  1999  Keanu Reeves  actor   \n",
      "1892369                     Me and Will  1999  Keanu Reeves  actor   \n",
      "1892390                      The Matrix  1999  Keanu Reeves  actor   \n",
      "1892387                        The Gift  2000  Keanu Reeves  actor   \n",
      "1892398                     The Watcher  2000  Keanu Reeves  actor   \n",
      "1892397                The Replacements  2000  Keanu Reeves  actor   \n",
      "1892383                  Sweet November  2001  Keanu Reeves  actor   \n",
      "1892358                       Hard Ball  2001  Keanu Reeves  actor   \n",
      "1892391             The Matrix Reloaded  2003  Keanu Reeves  actor   \n",
      "1892379          Something's Gotta Give  2003  Keanu Reeves  actor   \n",
      "1892392          The Matrix Revolutions  2003  Keanu Reeves  actor   \n",
      "1892351                    Ellie Parker  2005  Keanu Reeves  actor   \n",
      "1892348                     Constantine  2005  Keanu Reeves  actor   \n",
      "1892400                     Thumbsucker  2005  Keanu Reeves  actor   \n",
      "1892388                  The Lake House  2006  Keanu Reeves  actor   \n",
      "1892343                A Scanner Darkly  2006  Keanu Reeves  actor   \n",
      "1892382                    Street Kings  2008  Keanu Reeves  actor   \n",
      "1892385   The Day the Earth Stood Still  2008  Keanu Reeves  actor   \n",
      "1892396  The Private Lives of Pippa Lee  2009  Keanu Reeves  actor   \n",
      "1892359                   Henry's Crime  2010  Keanu Reeves  actor   \n",
      "1892357                Generation Um...  2012  Keanu Reeves  actor   \n",
      "1892342                        47 Ronin  2013  Keanu Reeves  actor   \n",
      "1892368                  Man of Tai Chi  2013  Keanu Reeves  actor   \n",
      "1892361                       John Wick  2014  Keanu Reeves  actor   \n",
      "1892366                     Knock Knock  2015  Keanu Reeves  actor   \n",
      "1892365                           Keanu  2016  Keanu Reeves  actor   \n",
      "1892393                  The Neon Demon  2016  Keanu Reeves  actor   \n",
      "1892353                   Exposed (III)  2016  Keanu Reeves  actor   \n",
      "1892399                 The Whole Truth  2016  Keanu Reeves  actor   \n",
      "1892384                   The Bad Batch  2016  Keanu Reeves  actor   \n",
      "1892381                          SPF-18  2017  Keanu Reeves  actor   \n",
      "1892362            John Wick: Chapter 2  2017  Keanu Reeves  actor   \n",
      "1892401                     To the Bone  2017  Keanu Reeves  actor   \n",
      "1892378                         Siberia  2018  Keanu Reeves  actor   \n",
      "1892363            John Wick: Chapter 3  2019  Keanu Reeves  actor   \n",
      "\n",
      "                    character     n  \n",
      "1892370               Himself  42.0  \n",
      "1892369               Dogstar  42.0  \n",
      "1892390                   Neo   1.0  \n",
      "1892387      Donnie Barksdale   3.0  \n",
      "1892398               Griffin   3.0  \n",
      "1892397           Shane Falco   1.0  \n",
      "1892383           Nelson Moss   1.0  \n",
      "1892358         Conor O'Neill   1.0  \n",
      "1892391                   Neo  59.0  \n",
      "1892379         Julian Mercer   3.0  \n",
      "1892392                   Neo  33.0  \n",
      "1892351               Dogstar  21.0  \n",
      "1892348      John Constantine   1.0  \n",
      "1892400           Perry Lyman  17.0  \n",
      "1892388            Alex Wyler   1.0  \n",
      "1892343            Bob Arctor   4.0  \n",
      "1892382  Detective Tom Ludlow   1.0  \n",
      "1892385                Klaatu   1.0  \n",
      "1892396          Chris Nadeau  16.0  \n",
      "1892359           Henry Torne   1.0  \n",
      "1892357                  John   NaN  \n",
      "1892342                   Kai   1.0  \n",
      "1892368           Donaka Mark   2.0  \n",
      "1892361             John Wick   1.0  \n",
      "1892366                  Evan   1.0  \n",
      "1892365                 Keanu  25.0  \n",
      "1892393                  Hank   8.0  \n",
      "1892353      Detective Galban   8.0  \n",
      "1892399                Ramsey   1.0  \n",
      "1892384             The Dream   4.0  \n",
      "1892381          Keanu Reeves   NaN  \n",
      "1892362             John Wick   1.0  \n",
      "1892401           Dr. Beckham  11.0  \n",
      "1892378            Lucas Hill   1.0  \n",
      "1892363             John Wick   NaN  \n"
     ]
    }
   ],
   "source": [
    "# Section I - Q10:\n",
    "# (A) How many roles has 'Keanu Reeves' played throughout his career?\n",
    "keanuReevesDf = cast[cast.name.str.match('Keanu Reeves')]\n",
    "print(len(keanuReevesDf))\n",
    "# (B) List the leading roles that 'Keanu Reeves' played on or after 1999 in order by year.\n",
    "print(keanuReevesDf[keanuReevesDf.year >= 1999].sort_values(by='year', ascending=True))"
   ]
  },
  {
   "cell_type": "code",
   "execution_count": 25,
   "id": "union-syndication",
   "metadata": {},
   "outputs": [
    {
     "name": "stdout",
     "output_type": "stream",
     "text": [
      "234635\n",
      "234635\n",
      "      type    freq\n",
      "0    actor  171302\n",
      "1  actress   63333\n",
      "1452413\n",
      "1452413\n",
      "      type    freq\n",
      "0    actor  922782\n",
      "1  actress  529631\n"
     ]
    }
   ],
   "source": [
    "# Section I - Q11:\n",
    "# (A) List the total number of actor and actress roles available from 1950 - 1960\n",
    "print(len(cast[(cast.year >= 1950) & (cast.year <= 1960)]))\n",
    "print(len(cast[cast.year.between(1950, 1960)]))\n",
    "# Group by\n",
    "print(\n",
    "    cast[cast.year.between(1950, 1960)][['type', 'name']].groupby('type').count().reset_index().rename({'name': 'freq'}, axis=1))\n",
    "\n",
    "# (B) List the total number of actor and actress roles available from 2007 - 2017\n",
    "print(len(cast[(cast.year >= 2007) & (cast.year <= 2017)]))\n",
    "print(len(cast[cast.year.between(2007, 2017)]))\n",
    "# Group by\n",
    "print(\n",
    "    cast[cast.year.between(2007, 2017)][['type', 'name']].groupby('type').count().reset_index().rename({'name': 'freq'}, axis=1))"
   ]
  },
  {
   "cell_type": "code",
   "execution_count": 26,
   "id": "smooth-associate",
   "metadata": {},
   "outputs": [
    {
     "name": "stdout",
     "output_type": "stream",
     "text": [
      "60568\n",
      "944946\n",
      "1839950\n"
     ]
    }
   ],
   "source": [
    "# Section I - Q12:\n",
    "# (A) List the total number of leading roles available from 2000 to present\n",
    "print(len(cast[(cast.year >= 2000) & (cast.n == 1)]))\n",
    "# (B) List the total number of non-leading roles available from 2000 - present (exclude support cast)\n",
    "print(len(cast[(cast.n.notnull()) & (cast.year >= 2000) & (cast.n > 2)]))\n",
    "# (C) List the total number of support\\extra-credit roles available from 2000 - present\n",
    "print(len(cast[(cast.year > 2000) & (cast.n != 1)]))"
   ]
  },
  {
   "cell_type": "code",
   "execution_count": 27,
   "id": "spoken-commodity",
   "metadata": {},
   "outputs": [
    {
     "name": "stdout",
     "output_type": "stream",
     "text": [
      "title            year\n",
      "$pent            2000    1\n",
      "Preston Tylk     2000    1\n",
      "Poteryannyy ray  2000    1\n",
      "dtype: int64\n"
     ]
    },
    {
     "data": {
      "image/png": "[encoded data removed]",
      "text/plain": [
       "<Figure size 432x288 with 1 Axes>"
      ]
     },
     "metadata": {
      "needs_background": "light"
     },
     "output_type": "display_data"
    },
    {
     "data": {
      "image/png": "[encoded data removed]",
      "text/plain": [
       "<Figure size 432x288 with 1 Axes>"
      ]
     },
     "metadata": {
      "needs_background": "light"
     },
     "output_type": "display_data"
    }
   ],
   "source": [
    "\n",
    "##################################################################################\n",
    "\n",
    "# Section II - Aggregations, Transformations and Visualizations\n",
    "# What are the top ten most common movie names of all time?\n",
    "topTenCommonMovieNamesDf = movies.title.value_counts()[:10]\n",
    "\n",
    "# Plot the top ten common movie names of all time\n",
    "topTenCommonMovieNamesDf.plot(kind='barh')\n",
    "\n",
    "# Section II - Q1: Which years in the 2000s saw the most movies released? (Show top 3)\n",
    "top3=movies[movies.year == 2000].value_counts()[:3]\n",
    "print(top3)\n",
    "\n",
    "# Section II - Q2: # Plot the total number of films released per-decade (1890, 1900, 1910,....)\n",
    "# Hint: Dividing the year and multiplying with a number might give you the decade the year falls into!\n",
    "# You might need to sort before plotting\n",
    "\n",
    "moviesByDecadeDf = movies.groupby(movies.year//10 * 10).sum()\n",
    "moviesByDecadeDf.plot(kind = \"bar\");\n"
   ]
  },
  {
   "cell_type": "code",
   "execution_count": 28,
   "id": "located-lover",
   "metadata": {},
   "outputs": [
    {
     "data": {
      "text/plain": [
       "Adolf Hitler             99\n",
       "Richard Nixon            44\n",
       "Ronald Reagan            41\n",
       "John F. Kennedy          37\n",
       "George W. Bush           25\n",
       "Winston Churchill        24\n",
       "Martin Luther King       23\n",
       "Ron Jeremy               22\n",
       "Bill Clinton             22\n",
       "Franklin D. Roosevelt    21\n",
       "Name: name, dtype: int64"
      ]
     },
     "execution_count": 28,
     "metadata": {},
     "output_type": "execute_result"
    }
   ],
   "source": [
    "\n",
    "# Section II - Q3:\n",
    "# (A) What are the top 10 most common character names in movie history?\n",
    "cast.character.value_counts()[:10]\n",
    "\n",
    "# (B) Who are the top 10 people most often credited as \"Herself\" in movie history?\n",
    "cast[cast.character == 'Herself']['name'].value_counts()[:10]\n",
    "\n",
    "# (C) Who are the top 10 people most often credited as \"Himself\" in movie history?\n",
    "cast[cast.character == 'Himself']['name'].value_counts()[:10]\n"
   ]
  },
  {
   "cell_type": "code",
   "execution_count": 29,
   "id": "appreciated-nevada",
   "metadata": {},
   "outputs": [
    {
     "data": {
      "text/plain": [
       "Policeman              7029\n",
       "Police Officer         4808\n",
       "Police Inspector        742\n",
       "Police Sergeant         674\n",
       "Police officer          539\n",
       "Police                  456\n",
       "Policewoman             415\n",
       "Police Chief            410\n",
       "Police Captain          387\n",
       "Police Commissioner     337\n",
       "Name: character, dtype: int64"
      ]
     },
     "execution_count": 29,
     "metadata": {},
     "output_type": "execute_result"
    }
   ],
   "source": [
    "# Section II - Q4:\n",
    "# Hint: The startswith() function might be useful\n",
    "# (A) What are the top 10 most frequent roles that start with the word \"Zombie\"?\n",
    "cast[cast.character.str.startswith('Zombie')].character.value_counts().head(10)\n",
    "# (B) What are the top 10 most frequent roles that start with the word \"Police\"?\n",
    "cast[cast.character.str.startswith('Police')].character.value_counts().head(10)"
   ]
  },
  {
   "cell_type": "code",
   "execution_count": 31,
   "id": "wicked-luxury",
   "metadata": {},
   "outputs": [
    {
     "data": {
      "text/plain": [
       "year\n",
       "1985    AxesSubplot(0.125,0.125;0.775x0.755)\n",
       "1986    AxesSubplot(0.125,0.125;0.775x0.755)\n",
       "1988    AxesSubplot(0.125,0.125;0.775x0.755)\n",
       "1989    AxesSubplot(0.125,0.125;0.775x0.755)\n",
       "1990    AxesSubplot(0.125,0.125;0.775x0.755)\n",
       "1991    AxesSubplot(0.125,0.125;0.775x0.755)\n",
       "1992    AxesSubplot(0.125,0.125;0.775x0.755)\n",
       "1993    AxesSubplot(0.125,0.125;0.775x0.755)\n",
       "1994    AxesSubplot(0.125,0.125;0.775x0.755)\n",
       "1995    AxesSubplot(0.125,0.125;0.775x0.755)\n",
       "1996    AxesSubplot(0.125,0.125;0.775x0.755)\n",
       "1997    AxesSubplot(0.125,0.125;0.775x0.755)\n",
       "1999    AxesSubplot(0.125,0.125;0.775x0.755)\n",
       "2000    AxesSubplot(0.125,0.125;0.775x0.755)\n",
       "2001    AxesSubplot(0.125,0.125;0.775x0.755)\n",
       "2003    AxesSubplot(0.125,0.125;0.775x0.755)\n",
       "2005    AxesSubplot(0.125,0.125;0.775x0.755)\n",
       "2006    AxesSubplot(0.125,0.125;0.775x0.755)\n",
       "2008    AxesSubplot(0.125,0.125;0.775x0.755)\n",
       "2009    AxesSubplot(0.125,0.125;0.775x0.755)\n",
       "2010    AxesSubplot(0.125,0.125;0.775x0.755)\n",
       "2012    AxesSubplot(0.125,0.125;0.775x0.755)\n",
       "2013    AxesSubplot(0.125,0.125;0.775x0.755)\n",
       "2014    AxesSubplot(0.125,0.125;0.775x0.755)\n",
       "2015    AxesSubplot(0.125,0.125;0.775x0.755)\n",
       "2016    AxesSubplot(0.125,0.125;0.775x0.755)\n",
       "2017    AxesSubplot(0.125,0.125;0.775x0.755)\n",
       "2018    AxesSubplot(0.125,0.125;0.775x0.755)\n",
       "2019    AxesSubplot(0.125,0.125;0.775x0.755)\n",
       "dtype: object"
      ]
     },
     "execution_count": 31,
     "metadata": {},
     "output_type": "execute_result"
    },
    {
     "data": {
      "image/png": "[encoded data removed]",
      "text/plain": [
       "<Figure size 432x288 with 1 Axes>"
      ]
     },
     "metadata": {
      "needs_background": "light"
     },
     "output_type": "display_data"
    },
    {
     "data": {
      "image/png": "[encoded data removed]",
      "text/plain": [
       "<Figure size 432x288 with 1 Axes>"
      ]
     },
     "metadata": {
      "needs_background": "light"
     },
     "output_type": "display_data"
    },
    {
     "data": {
      "image/png": "[encoded data removed]",
      "text/plain": [
       "<Figure size 432x288 with 1 Axes>"
      ]
     },
     "metadata": {
      "needs_background": "light"
     },
     "output_type": "display_data"
    },
    {
     "data": {
      "image/png": "[encoded data removed]",
      "text/plain": [
       "<Figure size 432x288 with 1 Axes>"
      ]
     },
     "metadata": {
      "needs_background": "light"
     },
     "output_type": "display_data"
    },
    {
     "data": {
      "image/png": "[encoded data removed]",
      "text/plain": [
       "<Figure size 432x288 with 1 Axes>"
      ]
     },
     "metadata": {
      "needs_background": "light"
     },
     "output_type": "display_data"
    },
    {
     "data": {
      "image/png": "[encoded data removed]",
      "text/plain": [
       "<Figure size 432x288 with 1 Axes>"
      ]
     },
     "metadata": {
      "needs_background": "light"
     },
     "output_type": "display_data"
    },
    {
     "data": {
      "image/png": "[encoded data removed]",
      "text/plain": [
       "<Figure size 432x288 with 1 Axes>"
      ]
     },
     "metadata": {
      "needs_background": "light"
     },
     "output_type": "display_data"
    },
    {
     "data": {
      "image/png": "[encoded data removed]",
      "text/plain": [
       "<Figure size 432x288 with 1 Axes>"
      ]
     },
     "metadata": {
      "needs_background": "light"
     },
     "output_type": "display_data"
    },
    {
     "data": {
      "image/png": "[encoded data removed]",
      "text/plain": [
       "<Figure size 432x288 with 1 Axes>"
      ]
     },
     "metadata": {
      "needs_background": "light"
     },
     "output_type": "display_data"
    },
    {
     "data": {
      "image/png": "[encoded data removed]",
      "text/plain": [
       "<Figure size 432x288 with 1 Axes>"
      ]
     },
     "metadata": {
      "needs_background": "light"
     },
     "output_type": "display_data"
    },
    {
     "data": {
      "image/png": "[encoded data removed]",
      "text/plain": [
       "<Figure size 432x288 with 1 Axes>"
      ]
     },
     "metadata": {
      "needs_background": "light"
     },
     "output_type": "display_data"
    },
    {
     "data": {
      "image/png": "[encoded data removed]",
      "text/plain": [
       "<Figure size 432x288 with 1 Axes>"
      ]
     },
     "metadata": {
      "needs_background": "light"
     },
     "output_type": "display_data"
    },
    {
     "data": {
      "image/png": "[encoded data removed]",
      "text/plain": [
       "<Figure size 432x288 with 1 Axes>"
      ]
     },
     "metadata": {
      "needs_background": "light"
     },
     "output_type": "display_data"
    },
    {
     "data": {
      "image/png": "[encoded data removed]",
      "text/plain": [
       "<Figure size 432x288 with 1 Axes>"
      ]
     },
     "metadata": {
      "needs_background": "light"
     },
     "output_type": "display_data"
    },
    {
     "data": {
      "image/png": "[encoded data removed]",
      "text/plain": [
       "<Figure size 432x288 with 1 Axes>"
      ]
     },
     "metadata": {
      "needs_background": "light"
     },
     "output_type": "display_data"
    },
    {
     "data": {
      "image/png": "[encoded data removed]",
      "text/plain": [
       "<Figure size 432x288 with 1 Axes>"
      ]
     },
     "metadata": {
      "needs_background": "light"
     },
     "output_type": "display_data"
    },
    {
     "data": {
      "image/png": "[encoded data removed]",
      "text/plain": [
       "<Figure size 432x288 with 1 Axes>"
      ]
     },
     "metadata": {
      "needs_background": "light"
     },
     "output_type": "display_data"
    },
    {
     "data": {
      "image/png": "[encoded data removed]",
      "text/plain": [
       "<Figure size 432x288 with 1 Axes>"
      ]
     },
     "metadata": {
      "needs_background": "light"
     },
     "output_type": "display_data"
    },
    {
     "data": {
      "image/png": "[encoded data removed]",
      "text/plain": [
       "<Figure size 432x288 with 1 Axes>"
      ]
     },
     "metadata": {
      "needs_background": "light"
     },
     "output_type": "display_data"
    },
    {
     "data": {
      "image/png": "[encoded data removed]",
      "text/plain": [
       "<Figure size 432x288 with 1 Axes>"
      ]
     },
     "metadata": {
      "needs_background": "light"
     },
     "output_type": "display_data"
    },
    {
     "data": {
      "image/png": "[encoded data removed]",
      "text/plain": [
       "<Figure size 432x288 with 1 Axes>"
      ]
     },
     "metadata": {
      "needs_background": "light"
     },
     "output_type": "display_data"
    },
    {
     "data": {
      "image/png": "[encoded data removed]",
      "text/plain": [
       "<Figure size 432x288 with 1 Axes>"
      ]
     },
     "metadata": {
      "needs_background": "light"
     },
     "output_type": "display_data"
    },
    {
     "data": {
      "image/png": "[encoded data removed]",
      "text/plain": [
       "<Figure size 432x288 with 1 Axes>"
      ]
     },
     "metadata": {
      "needs_background": "light"
     },
     "output_type": "display_data"
    },
    {
     "data": {
      "image/png": "[encoded data removed]",
      "text/plain": [
       "<Figure size 432x288 with 1 Axes>"
      ]
     },
     "metadata": {
      "needs_background": "light"
     },
     "output_type": "display_data"
    },
    {
     "data": {
      "image/png": "[encoded data removed]",
      "text/plain": [
       "<Figure size 432x288 with 1 Axes>"
      ]
     },
     "metadata": {
      "needs_background": "light"
     },
     "output_type": "display_data"
    },
    {
     "data": {
      "image/png": "[encoded data removed]",
      "text/plain": [
       "<Figure size 432x288 with 1 Axes>"
      ]
     },
     "metadata": {
      "needs_background": "light"
     },
     "output_type": "display_data"
    },
    {
     "data": {
      "image/png": "[encoded data removed]",
      "text/plain": [
       "<Figure size 432x288 with 1 Axes>"
      ]
     },
     "metadata": {
      "needs_background": "light"
     },
     "output_type": "display_data"
    },
    {
     "data": {
      "image/png": "[encoded data removed]",
      "text/plain": [
       "<Figure size 432x288 with 1 Axes>"
      ]
     },
     "metadata": {
      "needs_background": "light"
     },
     "output_type": "display_data"
    },
    {
     "data": {
      "image/png": "[encoded data removed]",
      "text/plain": [
       "<Figure size 432x288 with 1 Axes>"
      ]
     },
     "metadata": {
      "needs_background": "light"
     },
     "output_type": "display_data"
    }
   ],
   "source": [
    "# Section II - Q5: Plot how many roles 'Keanu Reeves' has played in each year of his career.\n",
    "keanu_movies = cast[cast.name == \"Keanu Reeves\"]\n",
    "keanu_movies.groupby(\"year\").plot(kind='barh')"
   ]
  },
  {
   "cell_type": "code",
   "execution_count": 32,
   "id": "amazing-copying",
   "metadata": {},
   "outputs": [
    {
     "data": {
      "text/plain": [
       "<AxesSubplot:xlabel='year', ylabel='n'>"
      ]
     },
     "execution_count": 32,
     "metadata": {},
     "output_type": "execute_result"
    },
    {
     "data": {
      "image/png": "[encoded data removed]",
      "text/plain": [
       "<Figure size 432x288 with 1 Axes>"
      ]
     },
     "metadata": {
      "needs_background": "light"
     },
     "output_type": "display_data"
    }
   ],
   "source": [
    "# Section II - Q6: Plot the cast positions (n-values) of Keanu Reeve's roles through his career over the years.\n",
    "# keanu_movies.groupby(\"year\")[\"n\"].count().plot(kind=\"bar\", figsize = (10,5))\n",
    "keanu = cast[(cast.name == 'Keanu Reeves') & (pd.notnull(cast.n))][['year', 'n']].sort_values('year')\n",
    "keanu.plot(x='year', y='n', kind='scatter')\n"
   ]
  },
  {
   "cell_type": "code",
   "execution_count": 33,
   "id": "great-genius",
   "metadata": {},
   "outputs": [
    {
     "data": {
      "text/plain": [
       "<AxesSubplot:xlabel='year'>"
      ]
     },
     "execution_count": 33,
     "metadata": {},
     "output_type": "execute_result"
    },
    {
     "data": {
      "image/png": "[encoded data removed]",
      "text/plain": [
       "<Figure size 432x288 with 1 Axes>"
      ]
     },
     "metadata": {
      "needs_background": "light"
     },
     "output_type": "display_data"
    }
   ],
   "source": [
    "\n",
    "# Section II - Q7: Plot the number of \"Hamlet\" films made by each decade\n",
    "hamlet = (movies[movies.title == 'Hamlet'].groupby(movies.year // 10 * 10).count().rename({'title': 'count'}, axis=1))['count']\n",
    "hamlet.plot(kind='bar')\n"
   ]
  },
  {
   "cell_type": "code",
   "execution_count": 34,
   "id": "african-huntington",
   "metadata": {},
   "outputs": [
    {
     "name": "stdout",
     "output_type": "stream",
     "text": [
      "              count\n",
      "year type          \n",
      "1960 actor      733\n",
      "     actress    302\n",
      "1961 actor      761\n",
      "     actress    327\n",
      "1962 actor      782\n",
      "     actress    299\n",
      "1963 actor      714\n",
      "     actress    336\n",
      "1964 actor      823\n",
      "     actress    313\n",
      "1965 actor      862\n",
      "     actress    340\n",
      "1966 actor      900\n",
      "     actress    358\n",
      "1967 actor      874\n",
      "     actress    402\n",
      "1968 actor      920\n",
      "     actress    407\n",
      "1969 actor      951\n",
      "     actress    419\n",
      "              count\n",
      "year type          \n",
      "2000 actor     1440\n",
      "     actress    593\n",
      "2001 actor     1462\n",
      "     actress    633\n",
      "2002 actor     1551\n",
      "     actress    662\n",
      "2003 actor     1540\n",
      "     actress    662\n",
      "2004 actor     1706\n",
      "     actress    685\n",
      "2005 actor     1836\n",
      "     actress    787\n",
      "2006 actor     2001\n",
      "     actress    881\n",
      "2007 actor     2145\n",
      "     actress    819\n",
      "2008 actor     2285\n",
      "     actress    971\n",
      "2009 actor     2591\n",
      "     actress   1094\n"
     ]
    }
   ],
   "source": [
    "\n",
    "# Section II - Q8:\n",
    "# Hint: A specific value of n might indicate a leading role\n",
    "# (A) How many leading roles were available to both actors and actresses, in the 1960s (1960-1969)?\n",
    "print (cast[(cast.year.between(1960, 1969)) & (cast.n == 1)].groupby(['year', 'type']).count()[['title']].rename({'title': 'count'}, axis=1))\n",
    "# (B) How many leading roles were available to both actors and actresses, in the 2000s (2000-2009)?\n",
    "print (cast[(cast.year.between(2000, 2009)) & (cast.n == 1)].groupby(['year', 'type']).count()[['title']].rename({'title': 'count'}, axis=1))\n",
    "\n"
   ]
  },
  {
   "cell_type": "code",
   "execution_count": 35,
   "id": "atmospheric-trademark",
   "metadata": {},
   "outputs": [
    {
     "name": "stdout",
     "output_type": "stream",
     "text": [
      "                                           freq\n",
      "year title                                     \n",
      "1979 The Muppet Movie                         8\n",
      "1981 An American Werewolf in London           2\n",
      "     The Great Muppet Caper                   6\n",
      "1982 The Dark Crystal                         2\n",
      "1984 The Muppets Take Manhattan               7\n",
      "1985 Follow That Bird                         3\n",
      "1992 The Muppet Christmas Carol               7\n",
      "1996 Muppet Treasure Island                   4\n",
      "1999 Muppets from Space                       4\n",
      "     The Adventures of Elmo in Grouchland     3\n",
      "                freq\n",
      "character           \n",
      "Animal             6\n",
      "Bert               3\n",
      "Cookie Monster     5\n",
      "Fozzie Bear        4\n",
      "Grover             2\n",
      "Miss Piggy         6\n",
      "Sam the Eagle      5\n",
      "Yoda               6\n"
     ]
    }
   ],
   "source": [
    "# Section II - Q9: List, in order by year, each of the films in which Frank Oz has played more than 1 role\n",
    "frankOz = (cast[cast.name == 'Frank Oz'].groupby(['year', 'title']).count()[['name']].rename({'name': 'freq'}, axis=1)\n",
    "         .sort_values(by=['year'], ascending=True))\n",
    "print(frankOz[frankOz.freq > 1])\n",
    "\n",
    "\n",
    "# Section II - Q10: List each of the characters that Frank Oz has portrayed at least twice\n",
    "frankOz = cast[cast.name == 'Frank Oz'].groupby(['character']).count()[['name']].rename({'name': 'freq'}, axis=1)\n",
    "print(frankOz[frankOz.freq > 1])"
   ]
  },
  {
   "cell_type": "code",
   "execution_count": 36,
   "id": "monetary-settle",
   "metadata": {},
   "outputs": [
    {
     "name": "stdout",
     "output_type": "stream",
     "text": [
      "AxesSubplot(0.125,0.125;0.775x0.755)\n"
     ]
    },
    {
     "data": {
      "image/png": "[encoded data removed]",
      "text/plain": [
       "<Figure size 432x288 with 1 Axes>"
      ]
     },
     "metadata": {
      "needs_background": "light"
     },
     "output_type": "display_data"
    }
   ],
   "source": [
    "# Section III - Advanced Merging, Querying and Visualizations\n",
    "# Make a bar plot with the following conditions\n",
    "# Frequency of the number of movies with \"Christmas\" in their title\n",
    "# Movies should be such that they are released in the USA.\n",
    "# Show the frequency plot by month\n",
    "christmas = release_dates[(release_dates.title.str.contains('Christmas')) & (release_dates.country == 'USA')]\n",
    "print(christmas.date.dt.month.value_counts().sort_index().plot(kind='bar'))"
   ]
  },
  {
   "cell_type": "code",
   "execution_count": 37,
   "id": "classical-spirit",
   "metadata": {},
   "outputs": [
    {
     "name": "stdout",
     "output_type": "stream",
     "text": [
      "AxesSubplot(0.125,0.125;0.775x0.755)\n"
     ]
    },
    {
     "data": {
      "image/png": "[encoded data removed]",
      "text/plain": [
       "<Figure size 432x288 with 1 Axes>"
      ]
     },
     "metadata": {
      "needs_background": "light"
     },
     "output_type": "display_data"
    }
   ],
   "source": [
    "\n",
    "# Section III - Q1: Make a bar plot with the following conditions\n",
    "# Frequency of the number of movies with \"Summer\" in their title\n",
    "# Movies should be such that they are released in the USA.\n",
    "# Show the frequency plot by month\n",
    "summer = release_dates[(release_dates.title.str.contains('Summer')) & (release_dates.country == 'USA')]\n",
    "print(summer.date.dt.month.value_counts().sort_index().plot(kind='bar'))\n",
    "\n"
   ]
  },
  {
   "cell_type": "code",
   "execution_count": 38,
   "id": "modular-petite",
   "metadata": {},
   "outputs": [
    {
     "name": "stdout",
     "output_type": "stream",
     "text": [
      "AxesSubplot(0.125,0.125;0.775x0.755)\n"
     ]
    },
    {
     "data": {
      "image/png": "[encoded data removed]",
      "text/plain": [
       "<Figure size 432x288 with 1 Axes>"
      ]
     },
     "metadata": {
      "needs_background": "light"
     },
     "output_type": "display_data"
    }
   ],
   "source": [
    "# Section III - Q2: Make a bar plot with the following conditions\n",
    "# Frequency of the number of movies with \"Action\" in their title\n",
    "# Movies should be such that they are released in the USA.\n",
    "# Show the frequency plot by week\n",
    "action = release_dates[(release_dates.title.str.contains('Summer')) & (release_dates.country == 'USA')]\n",
    "print(action.date.dt.dayofweek.value_counts().sort_index().plot(kind='bar'))\n"
   ]
  },
  {
   "cell_type": "code",
   "execution_count": 39,
   "id": "improving-consumer",
   "metadata": {},
   "outputs": [
    {
     "name": "stdout",
     "output_type": "stream",
     "text": [
      "                               title  year          name   type  \\\n",
      "52                  The Night Before  1988  Keanu Reeves  actor   \n",
      "4   Bill & Ted's Excellent Adventure  1989  Keanu Reeves  actor   \n",
      "3         Bill & Ted's Bogus Journey  1991  Keanu Reeves  actor   \n",
      "25                     Little Buddha  1993  Keanu Reeves  actor   \n",
      "38                             Speed  1994  Keanu Reeves  actor   \n",
      "22                   Johnny Mnemonic  1995  Keanu Reeves  actor   \n",
      "2               A Walk in the Clouds  1995  Keanu Reeves  actor   \n",
      "5                     Chain Reaction  1996  Keanu Reeves  actor   \n",
      "12                 Feeling Minnesota  1996  Keanu Reeves  actor   \n",
      "44              The Devil's Advocate  1997  Keanu Reeves  actor   \n",
      "48                        The Matrix  1999  Keanu Reeves  actor   \n",
      "55                  The Replacements  2000  Keanu Reeves  actor   \n",
      "41                    Sweet November  2001  Keanu Reeves  actor   \n",
      "16                         Hard Ball  2001  Keanu Reeves  actor   \n",
      "6                        Constantine  2005  Keanu Reeves  actor   \n",
      "46                    The Lake House  2006  Keanu Reeves  actor   \n",
      "40                      Street Kings  2008  Keanu Reeves  actor   \n",
      "43     The Day the Earth Stood Still  2008  Keanu Reeves  actor   \n",
      "0                           47 Ronin  2013  Keanu Reeves  actor   \n",
      "19                         John Wick  2014  Keanu Reeves  actor   \n",
      "24                       Knock Knock  2015  Keanu Reeves  actor   \n",
      "20              John Wick: Chapter 2  2017  Keanu Reeves  actor   \n",
      "17                     Henry's Crime  2010  Keanu Reeves  actor   \n",
      "31                     One Step Away  1985  Keanu Reeves  actor   \n",
      "36                           Siberia  2018  Keanu Reeves  actor   \n",
      "57                   The Whole Truth  2016  Keanu Reeves  actor   \n",
      "\n",
      "               character    n country       date  \n",
      "52      Winston Connelly  1.0     USA 1988-04-15  \n",
      "4                    Ted  1.0     USA 1989-02-17  \n",
      "3                    Ted  1.0     USA 1991-07-19  \n",
      "25            Siddhartha  1.0     USA 1994-05-25  \n",
      "38           Jack Traven  1.0     USA 1994-06-10  \n",
      "22       Johnny Mnemonic  1.0     USA 1995-05-26  \n",
      "2            Paul Sutton  1.0     USA 1995-08-11  \n",
      "5       Eddie Kasalivich  1.0     USA 1996-08-02  \n",
      "12         Jjaks Clayton  1.0     USA 1996-09-13  \n",
      "44           Kevin Lomax  1.0     USA 1997-10-17  \n",
      "48                   Neo  1.0     USA 1999-03-31  \n",
      "55           Shane Falco  1.0     USA 2000-08-11  \n",
      "41           Nelson Moss  1.0     USA 2001-02-16  \n",
      "16         Conor O'Neill  1.0     USA 2001-09-14  \n",
      "6       John Constantine  1.0     USA 2005-02-18  \n",
      "46            Alex Wyler  1.0     USA 2006-06-16  \n",
      "40  Detective Tom Ludlow  1.0     USA 2008-04-11  \n",
      "43                Klaatu  1.0     USA 2008-12-12  \n",
      "0                    Kai  1.0     USA 2013-12-25  \n",
      "19             John Wick  1.0     USA 2014-10-24  \n",
      "24                  Evan  1.0     USA 2015-10-09  \n",
      "20             John Wick  1.0     USA 2017-02-10  \n",
      "17           Henry Torne  1.0     NaN        NaT  \n",
      "31            Ron Petrie  1.0     NaN        NaT  \n",
      "36            Lucas Hill  1.0     NaN        NaT  \n",
      "57                Ramsey  1.0     NaN        NaT  \n"
     ]
    }
   ],
   "source": [
    "# Section III - Q3: Show all the movies in which Keanu Reeves has played the lead role along with their release date in the USA sorted by the date of release\n",
    "# Hint: You might need to join or merge two datasets!\n",
    "keanu_movies = cast[cast.name == \"Keanu Reeves\"]\n",
    "usa_release = release_dates[(release_dates.country == 'USA')]\n",
    "merged_usa_keanu = keanu_movies.merge(usa_release, how = \"left\", on = [\"title\", \"year\"])\n",
    "print(merged_usa_keanu[merged_usa_keanu.n == 1].sort_values(by = \"date\"))"
   ]
  },
  {
   "cell_type": "code",
   "execution_count": 40,
   "id": "warming-saint",
   "metadata": {},
   "outputs": [
    {
     "data": {
      "text/plain": [
       "<AxesSubplot:>"
      ]
     },
     "execution_count": 40,
     "metadata": {},
     "output_type": "execute_result"
    },
    {
     "data": {
      "image/png": "[encoded data removed]",
      "text/plain": [
       "<Figure size 432x288 with 1 Axes>"
      ]
     },
     "metadata": {
      "needs_background": "light"
     },
     "output_type": "display_data"
    }
   ],
   "source": [
    "# Section III - Q4: Make a bar plot showing the months in which movies with Keanu Reeves tend to be released in the USA?\n",
    "merged_usa_keanu.date.dt.month.value_counts().sort_index().plot(kind='bar')\n",
    "\n",
    "# Section III - Q5: Make a bar plot showing the years in which movies with Ian McKellen tend to be released in the USA?\n",
    "ian_mckellen_movies = cast[cast.name == \"Ian McKellen\"]\n",
    "merged_usa_ian_mckellen = ian_mckellen_movies.merge(usa_release, how = \"left\", on = [\"title\", \"year\"])\n",
    "merged_usa_ian_mckellen.date.dt.year.value_counts().sort_index().plot(kind='bar')"
   ]
  },
  {
   "cell_type": "code",
   "execution_count": null,
   "id": "stainless-letter",
   "metadata": {},
   "outputs": [],
   "source": []
  }
 ],
 "metadata": {
  "kernelspec": {
   "display_name": "Python 3",
   "language": "python",
   "name": "python3"
  },
  "language_info": {
   "codemirror_mode": {
    "name": "ipython",
    "version": 3
   },
   "file_extension": ".py",
   "mimetype": "text/x-python",
   "name": "python",
   "nbconvert_exporter": "python",
   "pygments_lexer": "ipython3",
   "version": "3.8.5"
  }
 },
 "nbformat": 4,
 "nbformat_minor": 5
}

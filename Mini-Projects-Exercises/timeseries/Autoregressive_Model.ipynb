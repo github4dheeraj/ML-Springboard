{
 "cells": [
  {
   "cell_type": "code",
   "execution_count": 1,
   "id": "systematic-dispatch",
   "metadata": {},
   "outputs": [
    {
     "ename": "ModuleNotFoundError",
     "evalue": "No module named 'pyramid.arima'",
     "output_type": "error",
     "traceback": [
      "\u001b[0;31m---------------------------------------------------------------------------\u001b[0m",
      "\u001b[0;31mModuleNotFoundError\u001b[0m                       Traceback (most recent call last)",
      "\u001b[0;32m<ipython-input-1-1dca32b63e90>\u001b[0m in \u001b[0;36m<module>\u001b[0;34m\u001b[0m\n\u001b[1;32m     12\u001b[0m \u001b[0;32mimport\u001b[0m \u001b[0mpyramid\u001b[0m \u001b[0;32mas\u001b[0m \u001b[0mpm\u001b[0m\u001b[0;34m\u001b[0m\u001b[0;34m\u001b[0m\u001b[0m\n\u001b[1;32m     13\u001b[0m \u001b[0;32mfrom\u001b[0m \u001b[0msklearn\u001b[0m \u001b[0;32mimport\u001b[0m \u001b[0mmetrics\u001b[0m\u001b[0;34m\u001b[0m\u001b[0;34m\u001b[0m\u001b[0m\n\u001b[0;32m---> 14\u001b[0;31m \u001b[0;32mfrom\u001b[0m \u001b[0mpyramid\u001b[0m\u001b[0;34m.\u001b[0m\u001b[0marima\u001b[0m \u001b[0;32mimport\u001b[0m \u001b[0mauto_arim\u001b[0m\u001b[0;34m\u001b[0m\u001b[0;34m\u001b[0m\u001b[0m\n\u001b[0m\u001b[1;32m     15\u001b[0m \u001b[0mwarmings\u001b[0m\u001b[0;34m.\u001b[0m\u001b[0mfilterwarnings\u001b[0m\u001b[0;34m(\u001b[0m\u001b[0;34m'ignore'\u001b[0m\u001b[0;34m)\u001b[0m\u001b[0;34m\u001b[0m\u001b[0;34m\u001b[0m\u001b[0m\n",
      "\u001b[0;31mModuleNotFoundError\u001b[0m: No module named 'pyramid.arima'"
     ]
    }
   ],
   "source": [
    "import warnings\n",
    "import numpy as np\n",
    "import pandas as pd\n",
    "import itertools\n",
    "import matplotlib.pyplot as plt\n",
    "import seaborn as sns\n",
    "import scipy;\n",
    "%matplotlib inline\n",
    "from matplotlib.pylab import rcParams\n",
    "import statsmodels.api as sm\n",
    "from statsmodels.tsa.seasonal import seasonal_decompose\n",
    "import pyramid as pm\n",
    "from sklearn import metrics\n",
    "from pyramid.arima import auto_arim\n",
    "warmings.filterwarnings('ignore')"
   ]
  },
  {
   "cell_type": "code",
   "execution_count": 2,
   "id": "stable-staff",
   "metadata": {},
   "outputs": [
    {
     "name": "stdout",
     "output_type": "stream",
     "text": [
      "Requirement already satisfied: pmdarima in /Users/dheeraj.chaudhari2/opt/anaconda3/lib/python3.8/site-packages (1.8.2)\n",
      "Requirement already satisfied: joblib>=0.11 in /Users/dheeraj.chaudhari2/opt/anaconda3/lib/python3.8/site-packages (from pmdarima) (1.0.0)\n",
      "Requirement already satisfied: urllib3 in /Users/dheeraj.chaudhari2/opt/anaconda3/lib/python3.8/site-packages (from pmdarima) (1.26.3)\n",
      "Requirement already satisfied: Cython!=0.29.18,>=0.29 in /Users/dheeraj.chaudhari2/opt/anaconda3/lib/python3.8/site-packages (from pmdarima) (0.29.21)\n",
      "Requirement already satisfied: scipy>=1.3.2 in /Users/dheeraj.chaudhari2/opt/anaconda3/lib/python3.8/site-packages (from pmdarima) (1.6.0)\n",
      "Requirement already satisfied: scikit-learn>=0.22 in /Users/dheeraj.chaudhari2/opt/anaconda3/lib/python3.8/site-packages (from pmdarima) (0.23.2)\n",
      "Requirement already satisfied: pandas>=0.19 in /Users/dheeraj.chaudhari2/opt/anaconda3/lib/python3.8/site-packages (from pmdarima) (1.2.1)\n",
      "Requirement already satisfied: statsmodels!=0.12.0,>=0.11 in /Users/dheeraj.chaudhari2/opt/anaconda3/lib/python3.8/site-packages (from pmdarima) (0.12.1)\n",
      "Requirement already satisfied: setuptools!=50.0.0,>=38.6.0 in /Users/dheeraj.chaudhari2/opt/anaconda3/lib/python3.8/site-packages (from pmdarima) (57.0.0)\n",
      "Requirement already satisfied: numpy~=1.19.0 in /Users/dheeraj.chaudhari2/opt/anaconda3/lib/python3.8/site-packages (from pmdarima) (1.19.5)\n",
      "Requirement already satisfied: python-dateutil>=2.7.3 in /Users/dheeraj.chaudhari2/opt/anaconda3/lib/python3.8/site-packages (from pandas>=0.19->pmdarima) (2.8.1)\n",
      "Requirement already satisfied: pytz>=2017.3 in /Users/dheeraj.chaudhari2/opt/anaconda3/lib/python3.8/site-packages (from pandas>=0.19->pmdarima) (2021.1)\n",
      "Requirement already satisfied: six>=1.5 in /Users/dheeraj.chaudhari2/opt/anaconda3/lib/python3.8/site-packages (from python-dateutil>=2.7.3->pandas>=0.19->pmdarima) (1.15.0)\n",
      "Requirement already satisfied: threadpoolctl>=2.0.0 in /Users/dheeraj.chaudhari2/opt/anaconda3/lib/python3.8/site-packages (from scikit-learn>=0.22->pmdarima) (2.1.0)\n",
      "Requirement already satisfied: patsy>=0.5 in /Users/dheeraj.chaudhari2/opt/anaconda3/lib/python3.8/site-packages (from statsmodels!=0.12.0,>=0.11->pmdarima) (0.5.1)\n",
      "Note: you may need to restart the kernel to use updated packages.\n"
     ]
    }
   ],
   "source": [
    "pip install pmdarima"
   ]
  },
  {
   "cell_type": "code",
   "execution_count": null,
   "id": "olympic-organizer",
   "metadata": {},
   "outputs": [],
   "source": []
  }
 ],
 "metadata": {
  "kernelspec": {
   "display_name": "Python 3",
   "language": "python",
   "name": "python3"
  },
  "language_info": {
   "codemirror_mode": {
    "name": "ipython",
    "version": 3
   },
   "file_extension": ".py",
   "mimetype": "text/x-python",
   "name": "python",
   "nbconvert_exporter": "python",
   "pygments_lexer": "ipython3",
   "version": "3.8.5"
  }
 },
 "nbformat": 4,
 "nbformat_minor": 5
}
